{
 "cells": [
  {
   "cell_type": "markdown",
   "source": [
    "## Практическая работа №1\n",
    "Выполнила студентка группы БВТ2001 Мосева Алеся"
   ],
   "metadata": {
    "collapsed": false
   }
  },
  {
   "cell_type": "markdown",
   "source": [
    "#### Задача №1\n",
    "Написать функцию, на вход которой подается строка, состоящая из латинских букв. Функция\n",
    "должна вернуть количество гласных букв (a, e, i, o, u) в этой строке."
   ],
   "metadata": {
    "collapsed": false
   }
  },
  {
   "cell_type": "code",
   "execution_count": 4,
   "outputs": [
    {
     "name": "stdout",
     "output_type": "stream",
     "text": [
      "2\n",
      "3\n"
     ]
    }
   ],
   "source": [
    "def check_letter(char: str) -> bool:\n",
    "    if char in ['a', 'e', 'i', 'o', 'u']:\n",
    "        return True\n",
    "    return False\n",
    "\n",
    "def check_string(string: str) -> int:\n",
    "    count: int = 0\n",
    "    for i in range(len(string)):\n",
    "        if check_letter(string[i]):\n",
    "            count = count + 1\n",
    "    return count\n",
    "\n",
    "print(check_string('abcde'))\n",
    "print(check_string('ourhdlfjsldfa'))"
   ],
   "metadata": {
    "collapsed": false,
    "ExecuteTime": {
     "start_time": "2023-09-22T22:41:22.454359Z",
     "end_time": "2023-09-22T22:41:22.464359Z"
    }
   }
  },
  {
   "cell_type": "markdown",
   "source": [
    "#### Задача №2\n",
    "Написать функцию на вход, которой подается строка. Функция должна вернуть true, если каждый\n",
    "символ в строке встречается только 1 раз, иначе должна вернуть false."
   ],
   "metadata": {
    "collapsed": false
   }
  },
  {
   "cell_type": "code",
   "execution_count": 7,
   "outputs": [
    {
     "name": "stdout",
     "output_type": "stream",
     "text": [
      "False\n",
      "True\n"
     ]
    }
   ],
   "source": [
    "def check_letter_count(string: str) -> bool:\n",
    "    for i in range(len(string) - 1):\n",
    "        if string.find(string[i], i+1) != -1:\n",
    "            return False\n",
    "    return True\n",
    "\n",
    "print(check_letter_count('aa'))\n",
    "print(check_letter_count('ab'))"
   ],
   "metadata": {
    "collapsed": false,
    "ExecuteTime": {
     "start_time": "2023-09-22T22:46:54.825684Z",
     "end_time": "2023-09-22T22:46:54.832757Z"
    }
   }
  },
  {
   "cell_type": "markdown",
   "source": [
    "#### Задача №3\n",
    "Написать функцию, которая принимает положительное число и возвращает количество бит\n",
    "равных 1 в этом числе."
   ],
   "metadata": {
    "collapsed": false
   }
  },
  {
   "cell_type": "code",
   "execution_count": 8,
   "outputs": [
    {
     "name": "stdout",
     "output_type": "stream",
     "text": [
      "('0b1000', 1)\n",
      "('0b1010', 2)\n"
     ]
    }
   ],
   "source": [
    "def check_bits(number: int) -> tuple[bin, int]:\n",
    "    return bin(number), bin(number).count('1')\n",
    "\n",
    "print(check_bits(8))\n",
    "print(check_bits(10))"
   ],
   "metadata": {
    "collapsed": false,
    "ExecuteTime": {
     "start_time": "2023-09-22T22:49:52.747275Z",
     "end_time": "2023-09-22T22:49:52.755278Z"
    }
   }
  },
  {
   "cell_type": "markdown",
   "source": [
    "#### Задача №4\n",
    "Написать функцию, которая принимает положительное число. Функция должна вернуть то, сколько раз\n",
    "необходимо перемножать цифры числа или результат перемножения, чтобы получилось число,\n",
    "состоящее из одной цифры.\n",
    "Например, для входного числа:\n",
    "·    39 функция должна вернуть 3, так как 3*9=27 => 2*7=14 => 1*4=4\n",
    "·    4 функция должна вернуть 0, так как число уже состоит из одной цифры\n",
    "·    999 функция должна вернуть 4, так как 9*9*9=729 => 7*2*9=126 => 1*2*6=12 => 1*2=2"
   ],
   "metadata": {
    "collapsed": false
   }
  },
  {
   "cell_type": "code",
   "execution_count": 37,
   "outputs": [
    {
     "name": "stdout",
     "output_type": "stream",
     "text": [
      "4\n",
      "3\n",
      "0\n"
     ]
    }
   ],
   "source": [
    "def mul(number: int) -> int:\n",
    "    result = 1\n",
    "    div = 10 ** (len(str(number)) - 1)\n",
    "    while div >= 10:\n",
    "        div = 10 ** (len(str(number)) - 1)\n",
    "        result = result * (number // div)\n",
    "        number = number % div\n",
    "    return result\n",
    "\n",
    "def count_mul(number: int) -> int:\n",
    "    count: int = 0\n",
    "    while len(str(number)) > 1:\n",
    "        count = count + 1\n",
    "        number = mul(number)\n",
    "    return count\n",
    "\n",
    "print(count_mul(999))\n",
    "print(count_mul(39))\n",
    "print(count_mul(4))"
   ],
   "metadata": {
    "collapsed": false,
    "ExecuteTime": {
     "start_time": "2023-09-22T23:24:44.952233Z",
     "end_time": "2023-09-22T23:24:44.967231Z"
    }
   }
  },
  {
   "cell_type": "markdown",
   "source": [
    "#### Задача №5\n",
    "Написать функция, которая принимает два целочисленных вектора одинаковой длины и\n",
    "возвращает среднеквадратическое отклонение двух векторов."
   ],
   "metadata": {
    "collapsed": false
   }
  },
  {
   "cell_type": "code",
   "execution_count": null,
   "outputs": [],
   "source": [],
   "metadata": {
    "collapsed": false
   }
  },
  {
   "cell_type": "markdown",
   "source": [
    "#### Задача №6\n",
    "Написать функцию, которая принимает список чисел и возвращает кортеж из двух элементов.\n",
    "Первый элемент кортежа – мат. ожидание, второй элемент – СКО. Запрещается использовать\n",
    "функции для расчета соответствующих характеристик."
   ],
   "metadata": {
    "collapsed": false
   }
  },
  {
   "cell_type": "code",
   "execution_count": null,
   "outputs": [],
   "source": [],
   "metadata": {
    "collapsed": false
   }
  },
  {
   "cell_type": "markdown",
   "source": [
    "#### Задача №7\n",
    "Написать функцию, принимающая целое положительное число. Функция должна вернуть строку\n",
    "вида “(n1 ** p1)(n2 ** p2) … (nk ** pk)” представляющая разложение числа на простые множители\n",
    "(если pi == 1, то выводить только ni).\n",
    "Например, для числа 86240 функция должна вернуть “(2 ** 5)(5)(7 ** 2)(11)”"
   ],
   "metadata": {
    "collapsed": false
   }
  },
  {
   "cell_type": "code",
   "execution_count": null,
   "outputs": [],
   "source": [],
   "metadata": {
    "collapsed": false
   }
  },
  {
   "cell_type": "markdown",
   "source": [
    "#### Задача №8\n",
    "Написать функцию, принимающая 2 строки вида “xxx.xxx.xxx.xxx” представляющие ip-адрес и\n",
    "маску сети. Функция должна вернуть 2 строки: адрес сети и широковещательный адрес."
   ],
   "metadata": {
    "collapsed": false
   }
  },
  {
   "cell_type": "code",
   "execution_count": null,
   "outputs": [],
   "source": [],
   "metadata": {
    "collapsed": false
   }
  },
  {
   "cell_type": "markdown",
   "source": [
    "#### Задача №9\n",
    "Написать функцию, принимающая целое число n, задающее количество кубиков. Функция должна\n",
    "определить, можно ли из данного кол-ва кубиков построить пирамиду, то есть можно ли\n",
    "представить число n как 1^2+2^2+3^2+…+k^2. Если можно, то функция должна вернуть k, иначе\n",
    "строку “It is impossible”."
   ],
   "metadata": {
    "collapsed": false
   }
  },
  {
   "cell_type": "code",
   "execution_count": null,
   "outputs": [],
   "source": [],
   "metadata": {
    "collapsed": false
   }
  },
  {
   "cell_type": "markdown",
   "source": [
    "#### Задача №10\n",
    "Написать функцию, которая принимает положительное целое число n и определяющая является ли\n",
    "число n сбалансированным. Число является сбалансированным, если сумма цифр до средних цифр\n",
    "равна сумме цифр после средней цифры. Если число нечетное, то средняя цифра одна, если\n",
    "четное, то средних цифр две. При расчете, средние числа не участвуют.\n",
    "Например:\n",
    "·    Число 23441 сбалансированное, так как 2+3=4+1\n",
    "·    Число 7 сбалансированное, так как 0=0\n",
    "·    Число 1231 сбалансированное, так как 1=1\n",
    "·    Число 123456 несбалансированное, так как 1+2!=5+6"
   ],
   "metadata": {
    "collapsed": false
   }
  },
  {
   "cell_type": "code",
   "execution_count": null,
   "outputs": [],
   "source": [],
   "metadata": {
    "collapsed": false
   }
  },
  {
   "cell_type": "markdown",
   "source": [
    "#### Задача №11\n",
    "Написать функцию, которая принимает двумерный массив M в первой колонке которой стоит\n",
    "буква латинского алфавита (данная буква обозначает принадлежность к классу) и вещественное\n",
    "число r, которое удовлетворяет условию 0<r<1. Функция должна разбить данный массив на 2 так,\n",
    "что количество строк в новых массивах пропорционально r и (r-1). Также, в каждом новом\n",
    "массиве, количество строк одного класса должно быть пропорционально количеству строк этого\n",
    "класса в исходном массиве."
   ],
   "metadata": {
    "collapsed": false
   }
  },
  {
   "cell_type": "code",
   "execution_count": null,
   "outputs": [],
   "source": [],
   "metadata": {
    "collapsed": false
   }
  }
 ],
 "metadata": {
  "kernelspec": {
   "display_name": "Python 3",
   "language": "python",
   "name": "python3"
  },
  "language_info": {
   "codemirror_mode": {
    "name": "ipython",
    "version": 2
   },
   "file_extension": ".py",
   "mimetype": "text/x-python",
   "name": "python",
   "nbconvert_exporter": "python",
   "pygments_lexer": "ipython2",
   "version": "2.7.6"
  }
 },
 "nbformat": 4,
 "nbformat_minor": 0
}
